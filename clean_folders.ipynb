{
 "cells": [
  {
   "cell_type": "code",
   "execution_count": null,
   "id": "5eaf5985",
   "metadata": {},
   "outputs": [],
   "source": [
    "#! conda install  --yes --file TTS.yaml"
   ]
  },
  {
   "cell_type": "code",
   "execution_count": null,
   "id": "e1b2d54e-f63f-40cb-8189-6f16cf4c5b70",
   "metadata": {},
   "outputs": [],
   "source": [
    "from IPython.core.getipython import get_ipython\n",
    "kernel = get_ipython().kernel\n",
    "cf=kernel.config['IPKernelApp']['connection_file']"
   ]
  },
  {
   "cell_type": "code",
   "execution_count": null,
   "id": "6a1c91a1-652c-45e6-9c63-94ce4e7d58dc",
   "metadata": {},
   "outputs": [],
   "source": [
    "kernel.config"
   ]
  },
  {
   "cell_type": "code",
   "execution_count": null,
   "id": "a5328a27-fc89-46e0-b4d2-2c922ec25370",
   "metadata": {},
   "outputs": [],
   "source": [
    "import sys\n",
    "sys.executable"
   ]
  },
  {
   "cell_type": "code",
   "execution_count": null,
   "id": "9f129526-f70a-492a-9f01-59cd5bbf169e",
   "metadata": {},
   "outputs": [],
   "source": [
    "from pyspark.sql import SparkSession"
   ]
  },
  {
   "cell_type": "code",
   "execution_count": null,
   "id": "3a25a447",
   "metadata": {},
   "outputs": [],
   "source": [
    "! conda install  --yes nltk"
   ]
  },
  {
   "cell_type": "code",
   "execution_count": null,
   "id": "03f47420",
   "metadata": {},
   "outputs": [],
   "source": [
    "from IPython.display import display, Markdown, Latex"
   ]
  },
  {
   "cell_type": "code",
   "execution_count": null,
   "id": "53108947-10ca-486b-83d4-f9430ee899cc",
   "metadata": {},
   "outputs": [],
   "source": [
    "import numpy as np\n",
    "import pandas as pd\n",
    "# import pandasql as ps\n",
    "# import sklearn \n",
    "import matplotlib.pyplot as plt\n",
    "\n",
    "\n",
    "import os\n",
    "from datetime import datetime\n",
    "import statistics as stat\n",
    "\n",
    "# import plotly.express as px\n",
    "# from plotly.subplots import make_subplots\n",
    "\n",
    "# from ucimlrepo import fetch_ucirepo , dotdict\n",
    "pd.set_option('display.precision', 3)\n",
    "%matplotlib inline\n",
    "pd.set_option('display.max_colwidth', None)"
   ]
  },
  {
   "cell_type": "code",
   "execution_count": null,
   "id": "fd908e6c",
   "metadata": {},
   "outputs": [],
   "source": [
    "keys = ['a','b','c','d','e']\n",
    "values = [1,2,3,4,5]  \n",
    "\n",
    "# but this line shows dict comprehension here  \n",
    "myDict = { k:v for (k,v) in zip(keys, values)}  \n",
    "\n",
    "# We can use below too\n",
    "# myDict = dict(zip(keys, values))  \n",
    "\n",
    "print (myDict)"
   ]
  },
  {
   "cell_type": "code",
   "execution_count": null,
   "id": "a449f236",
   "metadata": {},
   "outputs": [],
   "source": [
    "[print(m) for m in myDict]\n"
   ]
  },
  {
   "cell_type": "markdown",
   "id": "0d93db42",
   "metadata": {},
   "source": [
    "## Parse Latex"
   ]
  },
  {
   "cell_type": "code",
   "execution_count": null,
   "id": "defe2731",
   "metadata": {},
   "outputs": [],
   "source": [
    "from pylatexenc.latexwalker import LatexWalker"
   ]
  },
  {
   "cell_type": "code",
   "execution_count": null,
   "id": "e4959f1e",
   "metadata": {},
   "outputs": [],
   "source": [
    "w = LatexWalker(content)\n",
    "\n",
    "(nodelist, pos, len_) = w.get_latex_nodes(pos=0)\n",
    "\n"
   ]
  },
  {
   "cell_type": "code",
   "execution_count": null,
   "id": "f1b28ad2",
   "metadata": {},
   "outputs": [],
   "source": [
    "node = nodelist[0]"
   ]
  },
  {
   "cell_type": "code",
   "execution_count": null,
   "id": "665490c3",
   "metadata": {},
   "outputs": [],
   "source": [
    "\n",
    "node"
   ]
  },
  {
   "cell_type": "code",
   "execution_count": null,
   "id": "55bfcfb9",
   "metadata": {},
   "outputs": [],
   "source": [
    "dir(node)"
   ]
  },
  {
   "cell_type": "code",
   "execution_count": null,
   "id": "4bfdf045",
   "metadata": {},
   "outputs": [],
   "source": [
    "len(node.nodelist)"
   ]
  },
  {
   "cell_type": "code",
   "execution_count": null,
   "id": "c437e9c6",
   "metadata": {},
   "outputs": [],
   "source": [
    "import pylatexenc"
   ]
  },
  {
   "cell_type": "code",
   "execution_count": null,
   "id": "6ca1001f",
   "metadata": {},
   "outputs": [],
   "source": []
  },
  {
   "cell_type": "code",
   "execution_count": null,
   "id": "316e9f54",
   "metadata": {},
   "outputs": [],
   "source": [
    "pylatexenc.version.version_str"
   ]
  },
  {
   "cell_type": "code",
   "execution_count": null,
   "id": "4c78be1b",
   "metadata": {},
   "outputs": [],
   "source": [
    "nodelist[200:300]"
   ]
  },
  {
   "cell_type": "markdown",
   "id": "70f3b321",
   "metadata": {},
   "source": [
    "### Configure Latex parser\n",
    "\n",
    "and convert to simple text"
   ]
  },
  {
   "cell_type": "code",
   "execution_count": null,
   "id": "82576b8f",
   "metadata": {},
   "outputs": [],
   "source": []
  },
  {
   "cell_type": "code",
   "execution_count": null,
   "id": "e4654f31",
   "metadata": {},
   "outputs": [],
   "source": [
    "# shorten segments of multiple newlines to just 2\n",
    "\n",
    "processed = re.sub(r\"\\n{2,}\", r\"  \\n\\n\", processed)\n",
    "\n",
    "print(processed[:1000])\n"
   ]
  },
  {
   "cell_type": "code",
   "execution_count": null,
   "id": "85fc78f5",
   "metadata": {},
   "outputs": [],
   "source": [
    "\n",
    "print(custom_latex_to_text(\n",
    "    r\"\"\"\\begin{inquotes}[`][']Hello, world\\end{inquotes}\"\"\"))\n",
    "# ‘Hello, world’\n",
    "\n",
    "print(custom_latex_to_text(r\"\"\"\\putinquotes[``]['']{Hello, world}\"\"\"))\n",
    "# “Hello, world”\n",
    "\n",
    "print(custom_latex_to_text(r\"\"\"\\putinquotes{Hello, world}\"\"\"))\n",
    "# “Hello, world”\n",
    "\n",
    "print(custom_latex_to_text(r\"\"\"\\putinquotes[`][']{Hello, world}\"\"\"))\n",
    "# ‘Hello, world’"
   ]
  },
  {
   "cell_type": "code",
   "execution_count": null,
   "id": "82d2ff22",
   "metadata": {},
   "outputs": [],
   "source": [
    "test = processed[:1000]"
   ]
  },
  {
   "cell_type": "markdown",
   "id": "3d00dc36",
   "metadata": {},
   "source": [
    "## Split simple text into chunks \n",
    "for feeding the tacotron"
   ]
  },
  {
   "cell_type": "code",
   "execution_count": null,
   "id": "ac020dd3",
   "metadata": {},
   "outputs": [],
   "source": [
    "# def split_text_into_chunks(text, max_length=100):\n",
    "#     chunks = []\n",
    "#     current_chunk = []\n",
    "#     current_length = 0\n",
    "\n",
    "#     for sentence in re.split(r'\\. *\\n?|\\n+', text):  # Split by sentences\n",
    "#         if current_length + len(sentence) <= max_length:\n",
    "#             current_chunk.append(sentence)\n",
    "#             current_length += len(sentence)\n",
    "#         else:\n",
    "#             chunks.append('. '.join(current_chunk) )\n",
    "#             current_chunk = [sentence]\n",
    "#             current_length = len(sentence)\n",
    "    \n",
    "#     if current_chunk:\n",
    "#         chunks.append('. '.join(current_chunk) )\n",
    "\n",
    "#     return chunks\n",
    "\n",
    "# chunks = split_text_into_chunks(test)\n",
    "# chunks"
   ]
  },
  {
   "cell_type": "code",
   "execution_count": null,
   "id": "90ccc420",
   "metadata": {},
   "outputs": [],
   "source": [
    "import re"
   ]
  },
  {
   "cell_type": "code",
   "execution_count": null,
   "id": "a392418e",
   "metadata": {},
   "outputs": [],
   "source": [
    "def breakByWords(text, max_len=100):\n",
    "  ss = re.split(r'[ \\n]+', text)\n",
    "  #ss = text.split(\" \")\n",
    "  for i in range(len(ss)-1):\n",
    "    ss[i] = ss[i] + \" \" \n",
    "  res = [] #ws[0]]  \n",
    "  #print(len(ws))\n",
    "  for i in range(len(ss)):\n",
    "    if res and len(res[-1]) + 1 + len(ss[i]) < max_len:\n",
    "      res[-1] = res[-1] + ss[i]\n",
    "    else:\n",
    "      res += [ss[i]]\n",
    "  return res"
   ]
  },
  {
   "cell_type": "code",
   "execution_count": null,
   "id": "41d149df",
   "metadata": {},
   "outputs": [],
   "source": [
    "test = 'It also provides training recipes pretrained models and inference scripts for popular speech datasets as well as tutorials which allow anyone with basic Python proficiency to familiarize themselves with speech technologies'\n",
    "\n",
    "breakByWords(test)"
   ]
  },
  {
   "cell_type": "markdown",
   "id": "a57bb9c9",
   "metadata": {},
   "source": [
    "\n",
    "breakByCommas(long)\n"
   ]
  },
  {
   "cell_type": "code",
   "execution_count": null,
   "id": "8830f8de",
   "metadata": {},
   "outputs": [],
   "source": [
    "text = test + \" \" + test\n",
    "\n",
    "\n",
    "ss = re.split(r'[ \\n]+', text)\n",
    "ss"
   ]
  },
  {
   "cell_type": "code",
   "execution_count": null,
   "id": "6d093e11",
   "metadata": {},
   "outputs": [],
   "source": [
    "len(ss)"
   ]
  },
  {
   "cell_type": "code",
   "execution_count": null,
   "id": "c28a4a54",
   "metadata": {},
   "outputs": [],
   "source": [
    "lens = np.array([len(s) for s in ss])\n",
    "lens"
   ]
  },
  {
   "cell_type": "code",
   "execution_count": null,
   "id": "ca209b69",
   "metadata": {},
   "outputs": [],
   "source": [
    "import numpy as np \n",
    "import math\n",
    "\n",
    "maxlen = 60\n",
    "n = int(np.ceil(np.sum(lens) / maxlen))\n",
    "n"
   ]
  },
  {
   "cell_type": "code",
   "execution_count": null,
   "id": "d45fb5b3",
   "metadata": {},
   "outputs": [],
   "source": [
    "csum = np.cumsum(lens)\n",
    "csum"
   ]
  },
  {
   "cell_type": "code",
   "execution_count": null,
   "id": "876057ae",
   "metadata": {},
   "outputs": [],
   "source": [
    "import numpy as np \n",
    "\n",
    "def BBW(text, maxlen = 60):\n",
    "  ss = re.split(r'[ \\n]+', text)  \n",
    "  lens = np.array([len(s)+1 for s in ss]) # lenghts of each word\n",
    "\n",
    "  if (max(lens)> maxlen):\n",
    "    raise ValueError(\"maxlen must be larger than lengths of words in text.\")\n",
    "  \n",
    "  n = int(np.ceil(np.sum(lens) / maxlen))  # decide how many chunks needed\n",
    "  cs = int(np.floor(np.sum(lens) / n)) # decide avg size of chunk\n",
    "  #print(n)\n",
    "  csum = np.cumsum(lens)\n",
    "  #print(csum)\n",
    "  #plt.plot(csum)\n",
    "\n",
    "  # find cutoffs by which to distribute words into chunks \n",
    "  cutoffs = [0]\n",
    "  for i in range(1,n):\n",
    "    x = [i*cs] * len(lens)\n",
    "    a = np.abs(x - csum)\n",
    "    #plt.plot(a)\n",
    "    #print(list(zip(x,csum)))\n",
    "    #print(y)\n",
    "    cutoffs.append(np.argmin(a)) ##(y[y>=a]))\n",
    "  cutoffs += [len(ss)]\n",
    "  #print(cutoffs)\n",
    "  \n",
    "  #print(csum[cutoffs[:-1]])\n",
    "\n",
    "  # distribute words into chunks\n",
    "  chunks = [''] * (len(cutoffs) - 1)\n",
    "  for i in range(len(cutoffs)-1):\n",
    "    f = cutoffs[i]\n",
    "    t = cutoffs[i+1]\n",
    "    #print(i,f,t, sum(lens[f:t]))\n",
    "    chunks[i] = \" \".join(ss[f:t])\n",
    "  return chunks\n",
    "\n",
    "print(len(test))\n",
    "BBW( test ,75 )"
   ]
  },
  {
   "cell_type": "code",
   "execution_count": null,
   "id": "0ffade02",
   "metadata": {},
   "outputs": [],
   "source": [
    "import matplotlib.pyplot as plt"
   ]
  },
  {
   "cell_type": "code",
   "execution_count": null,
   "id": "bbfdee37",
   "metadata": {},
   "outputs": [],
   "source": [
    "def BBWtst(text, maxlen = 100):\n",
    "  print(\"maxlen: \", maxlen)\n",
    "  res = BBW( text ,maxlen )\n",
    "  [print(r) for r in res]\n",
    "  res = \" \".join(res)\n",
    "  # print(text)\n",
    "  # print(res)\n",
    "  assert text == res\n",
    "\n",
    "smp = np.random.normal(100, 50,20).astype(int)\n",
    "smp[smp > 20]\n",
    "\n",
    "for i in smp:\n",
    "  BBWtst(test,i)"
   ]
  },
  {
   "cell_type": "code",
   "execution_count": null,
   "id": "a50dc299",
   "metadata": {},
   "outputs": [],
   "source": [
    "smp = np.random.normal(100, 200, 20).astype(int)\n",
    "smp = smp[smp > 20]\n",
    "smp[:20]"
   ]
  },
  {
   "cell_type": "code",
   "execution_count": null,
   "id": "bd054e3e",
   "metadata": {},
   "outputs": [],
   "source": [
    "from datetime import datetime as dt\n",
    "dt.now().strftime(r\"%y.%m.%d-%H\")"
   ]
  },
  {
   "cell_type": "code",
   "execution_count": null,
   "id": "02aba241",
   "metadata": {},
   "outputs": [],
   "source": [
    "dt.now().strftime(r\"%y.%m.%d-%H\")"
   ]
  },
  {
   "cell_type": "code",
   "execution_count": null,
   "id": "cd3fa50e",
   "metadata": {},
   "outputs": [],
   "source": [
    "cutoffs = [0]\n",
    "for i in range(1,n):\n",
    "  x = [i*maxlen] * len(lens)\n",
    "  y = x - csum\n",
    "  cutoffs.append(np.argmin(y[y>0]))\n",
    "\n",
    "cutoffs + [len(ss)]"
   ]
  },
  {
   "cell_type": "code",
   "execution_count": null,
   "id": "f381da59",
   "metadata": {},
   "outputs": [],
   "source": [
    "chunks = [''] * (len(cutoffs) - 1)\n",
    "print(cutoffs)\n",
    "for i in range(len(cutoffs)-1):\n",
    "  f = cutoffs[i]\n",
    "  t = cutoffs[i+1]\n",
    "  print(i,f,t)\n",
    "  chunks[i] = \" \".join(ss[f:t])\n",
    "chunks"
   ]
  },
  {
   "cell_type": "code",
   "execution_count": null,
   "id": "970a6ddc",
   "metadata": {},
   "outputs": [],
   "source": [
    "chunks + ['']"
   ]
  },
  {
   "cell_type": "code",
   "execution_count": null,
   "id": "9311dfd5",
   "metadata": {},
   "outputs": [],
   "source": [
    "\n",
    "sent = \"\"\"SpeechBrain achieves competitive or state-of-the-art performance in a wide range of speech benchmarks. It also provides training recipes, pretrained models, and inference scripts for popular speech datasets, as well as tutorials which allow anyone with basic Python proficiency to familiarize themselves with speech technologies.      \"\"\"\n",
    "\n",
    "breakByPeriods(sent)"
   ]
  },
  {
   "cell_type": "code",
   "execution_count": null,
   "id": "a61c5562",
   "metadata": {},
   "outputs": [],
   "source": [
    "\n",
    "chunks = breakByParagraphs(test)\n",
    "chunks"
   ]
  },
  {
   "cell_type": "code",
   "execution_count": null,
   "id": "fd512bd7",
   "metadata": {},
   "outputs": [],
   "source": [
    "from LatexToSpeech import Chunker\n",
    "\n",
    "chunker = Chunker()"
   ]
  },
  {
   "cell_type": "code",
   "execution_count": null,
   "id": "8f4e8348",
   "metadata": {},
   "outputs": [],
   "source": []
  },
  {
   "cell_type": "code",
   "execution_count": null,
   "id": "52834b55",
   "metadata": {},
   "outputs": [],
   "source": [
    "\n",
    "chunks = chunker.split_text_into_chunks(test)\n",
    "chunks"
   ]
  },
  {
   "cell_type": "code",
   "execution_count": null,
   "id": "795151b5",
   "metadata": {},
   "outputs": [],
   "source": [
    "from nltk import tokenize "
   ]
  },
  {
   "cell_type": "code",
   "execution_count": null,
   "id": "8b5ceb34",
   "metadata": {},
   "outputs": [],
   "source": []
  },
  {
   "cell_type": "code",
   "execution_count": null,
   "id": "7ee81c70",
   "metadata": {},
   "outputs": [],
   "source": [
    "display(Markdown(test))"
   ]
  },
  {
   "cell_type": "code",
   "execution_count": null,
   "id": "7a680794",
   "metadata": {},
   "outputs": [],
   "source": [
    "wat = r\"\".join(chunks)\n",
    "print(wat)"
   ]
  },
  {
   "cell_type": "code",
   "execution_count": null,
   "id": "97dfef13",
   "metadata": {},
   "outputs": [],
   "source": []
  },
  {
   "cell_type": "code",
   "execution_count": null,
   "id": "b727ea29",
   "metadata": {},
   "outputs": [],
   "source": [
    "ss = re.split(r'(?:\\. +)?\\n+', test)"
   ]
  },
  {
   "cell_type": "code",
   "execution_count": null,
   "id": "35080f58",
   "metadata": {},
   "outputs": [],
   "source": [
    "ss"
   ]
  },
  {
   "cell_type": "code",
   "execution_count": null,
   "id": "2be5e283",
   "metadata": {},
   "outputs": [],
   "source": [
    "x = \"It is designed to facilitate the research and development of neural speech processing technologies by being simple\"\n",
    "words = x.split(\" \")\n",
    "words"
   ]
  },
  {
   "cell_type": "code",
   "execution_count": null,
   "id": "5b139904",
   "metadata": {},
   "outputs": [],
   "source": [
    "len(x)"
   ]
  },
  {
   "cell_type": "code",
   "execution_count": null,
   "id": "de955055",
   "metadata": {},
   "outputs": [],
   "source": [
    "len(words)"
   ]
  },
  {
   "cell_type": "code",
   "execution_count": null,
   "id": "1414b26b",
   "metadata": {},
   "outputs": [],
   "source": [
    "lens = [len(w) for w in words]\n",
    "lens"
   ]
  },
  {
   "cell_type": "code",
   "execution_count": null,
   "id": "f03d1718",
   "metadata": {},
   "outputs": [],
   "source": [
    "import math"
   ]
  },
  {
   "cell_type": "code",
   "execution_count": null,
   "id": "3934a344",
   "metadata": {},
   "outputs": [],
   "source": [
    "div = math.floor(len(words)/2)"
   ]
  },
  {
   "cell_type": "code",
   "execution_count": null,
   "id": "db7efd99",
   "metadata": {},
   "outputs": [],
   "source": [
    "l = lens[:div]\n",
    "r = lens[div:]\n",
    "print(sum(r),sum(l))"
   ]
  },
  {
   "cell_type": "code",
   "execution_count": null,
   "id": "1b4e30b8",
   "metadata": {},
   "outputs": [],
   "source": [
    "prev = [f'[{len(w)}] {w}' for w in chunks]\n",
    "display(Markdown(\"\\n\\n ~ \\n\\n\".join(prev)))"
   ]
  },
  {
   "cell_type": "code",
   "execution_count": null,
   "id": "0e6a7b9b",
   "metadata": {},
   "outputs": [],
   "source": [
    "long.split(\", \")"
   ]
  },
  {
   "cell_type": "markdown",
   "id": "f8906a74",
   "metadata": {},
   "source": [
    "## Text to speech"
   ]
  },
  {
   "cell_type": "code",
   "execution_count": null,
   "id": "9a650df6",
   "metadata": {},
   "outputs": [],
   "source": [
    "\n",
    "\n",
    "\n"
   ]
  },
  {
   "cell_type": "code",
   "execution_count": null,
   "id": "dd999611",
   "metadata": {},
   "outputs": [],
   "source": [
    "import speechbrain\n",
    "speechbrain.version"
   ]
  },
  {
   "cell_type": "code",
   "execution_count": null,
   "id": "258bb161",
   "metadata": {},
   "outputs": [],
   "source": [
    "\n",
    "\n",
    "ord, unord = orderUnorder(chunks)\n",
    "\n",
    "\n"
   ]
  },
  {
   "cell_type": "code",
   "execution_count": null,
   "id": "1fb7e165",
   "metadata": {},
   "outputs": [],
   "source": [
    "chunks"
   ]
  },
  {
   "cell_type": "code",
   "execution_count": null,
   "id": "6d62a129",
   "metadata": {},
   "outputs": [],
   "source": [
    "ordered = [chunks[i] for i in ord]\n",
    "ordered"
   ]
  },
  {
   "cell_type": "code",
   "execution_count": null,
   "id": "106f82ef",
   "metadata": {},
   "outputs": [],
   "source": [
    "unordered = [ordered[i] for i in unord]\n",
    "unordered"
   ]
  },
  {
   "cell_type": "markdown",
   "id": "a716c776",
   "metadata": {},
   "source": [
    "### Feed the chunks, recombine and convert to waveform"
   ]
  },
  {
   "cell_type": "code",
   "execution_count": null,
   "id": "aa280d89",
   "metadata": {},
   "outputs": [],
   "source": [
    "\n",
    "\n",
    "\n",
    "waveform, order, alignment = text_to_speech(test)\n",
    "\n"
   ]
  },
  {
   "cell_type": "markdown",
   "id": "729114a8",
   "metadata": {},
   "source": [
    "### Save to WAV file"
   ]
  },
  {
   "cell_type": "code",
   "execution_count": null,
   "id": "4d0363c8",
   "metadata": {},
   "outputs": [],
   "source": [
    "\n",
    "\n",
    "# for chunk in chunks:\n",
    "#     mel_output, mel_length, alignment = tacotron2.encode_text(chunk)\n",
    "#     waveform = hifi_gan.decode_batch(mel_output).squeeze(1)\n",
    "\n",
    "#     if combined_waveform is None:\n",
    "#         combined_waveform = waveform\n",
    "#     else:\n",
    "#         # Align waveforms by padding the shorter one\n",
    "#         #pad_length = max(combined_waveform.size(-1), waveform.size(-1))\n",
    "#         #combined_waveform = torch.nn.functional.pad(combined_waveform, (0, pad_length - combined_waveform.size(-1)))\n",
    "#         #waveform = torch.nn.functional.pad(waveform, (0, pad_length - waveform.size(-1)))\n",
    "#         combined_waveform = torch.cat([combined_waveform, waveform], dim=-1)\n"
   ]
  },
  {
   "cell_type": "code",
   "execution_count": null,
   "id": "3dc9744f",
   "metadata": {},
   "outputs": [],
   "source": [
    "unorder = [(i,order[i]) for i in range(len(order))]\n",
    "unorder"
   ]
  },
  {
   "cell_type": "code",
   "execution_count": null,
   "id": "12cc8771",
   "metadata": {},
   "outputs": [],
   "source": [
    "unorder = sorted(unorder, key=lambda k: k[1], reverse=False)\n",
    "unorder = [i[0] for i in unorder]\n",
    "unorder"
   ]
  },
  {
   "cell_type": "code",
   "execution_count": null,
   "id": "095b033b",
   "metadata": {},
   "outputs": [],
   "source": [
    "print(str(torchaudio.list_audio_backends()))"
   ]
  },
  {
   "cell_type": "code",
   "execution_count": null,
   "id": "3d5c08f8",
   "metadata": {},
   "outputs": [],
   "source": [
    "chunks = split_text_into_chunks(processed[:500], max_length=200)  # Split text"
   ]
  },
  {
   "cell_type": "code",
   "execution_count": null,
   "id": "3b3fa2b5",
   "metadata": {},
   "outputs": [],
   "source": []
  },
  {
   "cell_type": "code",
   "execution_count": null,
   "id": "9755ae87",
   "metadata": {},
   "outputs": [],
   "source": [
    "prev = [f'[{len(w)}] {w}' for w in chunks]\n",
    "display(Markdown(\"\\n\\n ~ \\n\\n\".join(prev)))"
   ]
  },
  {
   "cell_type": "code",
   "execution_count": null,
   "id": "ca9193ca",
   "metadata": {},
   "outputs": [],
   "source": [
    "print(len(chunks))\n",
    "print(\"\\n ~ \\n\".join(chunks))"
   ]
  },
  {
   "cell_type": "code",
   "execution_count": null,
   "id": "6743ed92",
   "metadata": {},
   "outputs": [],
   "source": [
    "a = chunks\n",
    "\n",
    "list_keys = sorted(range(len(a)), key=lambda k: len(a[k]), reverse=True)\n",
    "\n",
    "list_keys"
   ]
  },
  {
   "cell_type": "code",
   "execution_count": null,
   "id": "6b3ca7cb",
   "metadata": {},
   "outputs": [],
   "source": [
    "[a[i] for i in list_keys]\n"
   ]
  },
  {
   "cell_type": "code",
   "execution_count": null,
   "id": "5f3e6c14",
   "metadata": {},
   "outputs": [],
   "source": [
    "[a[indx] for indx in range(len(list_keys))]\n",
    "    "
   ]
  },
  {
   "cell_type": "code",
   "execution_count": null,
   "id": "70937b67",
   "metadata": {},
   "outputs": [],
   "source": [
    "specs = [env.macroname for env in l2t_context_db.iter_macro_specs()]\n",
    "specs"
   ]
  },
  {
   "cell_type": "code",
   "execution_count": null,
   "id": "bd04d4dc",
   "metadata": {},
   "outputs": [],
   "source": []
  },
  {
   "cell_type": "code",
   "execution_count": null,
   "id": "15f519ba",
   "metadata": {},
   "outputs": [],
   "source": [
    "wat = \"author\"\n",
    "spec = l2t_context_db.get_macro_spec(wat), l2t_context_db.get_environment_spec(wat), l2t_context_db.get_specials_spec(wat) \n",
    "macro, env, special = spec\n",
    "print(spec)"
   ]
  },
  {
   "cell_type": "code",
   "execution_count": null,
   "id": "7b7a992b",
   "metadata": {},
   "outputs": [],
   "source": []
  },
  {
   "cell_type": "code",
   "execution_count": null,
   "id": "11a1b6da",
   "metadata": {},
   "outputs": [],
   "source": [
    "dir(macro)"
   ]
  },
  {
   "cell_type": "code",
   "execution_count": null,
   "id": "eb11d918",
   "metadata": {},
   "outputs": [],
   "source": [
    "print(macro.discard, macro.macroname, macro.simplify_repl)"
   ]
  },
  {
   "cell_type": "code",
   "execution_count": null,
   "id": "f6c4b16d",
   "metadata": {},
   "outputs": [],
   "source": [
    " dir(macro.simplify_repl)"
   ]
  },
  {
   "cell_type": "code",
   "execution_count": null,
   "id": "f5e3a8ad",
   "metadata": {},
   "outputs": [],
   "source": [
    "??macro.simplify_repl"
   ]
  },
  {
   "cell_type": "code",
   "execution_count": null,
   "id": "726adb87",
   "metadata": {},
   "outputs": [],
   "source": [
    "spec.simplify_repl"
   ]
  },
  {
   "cell_type": "code",
   "execution_count": null,
   "id": "d6746270",
   "metadata": {},
   "outputs": [],
   "source": [
    "\n"
   ]
  },
  {
   "cell_type": "code",
   "execution_count": null,
   "id": "b191f036-5a99-4c05-bf92-0d0e06348648",
   "metadata": {},
   "outputs": [],
   "source": [
    "import shutil"
   ]
  },
  {
   "cell_type": "code",
   "execution_count": null,
   "id": "44326941-fdbf-4465-adb0-006a6d883c09",
   "metadata": {},
   "outputs": [],
   "source": [
    "from os import listdir\n",
    "from os.path import isfile, join , isdir"
   ]
  },
  {
   "cell_type": "markdown",
   "id": "109c18eb-41ae-4437-93c6-b8be98d71378",
   "metadata": {},
   "source": [
    "# View Benchmarking data"
   ]
  },
  {
   "attachments": {},
   "cell_type": "markdown",
   "id": "3bb8e570-490d-409e-8cee-4dd12ca2b169",
   "metadata": {},
   "source": [
    "### Load gathered data"
   ]
  },
  {
   "cell_type": "code",
   "execution_count": null,
   "id": "a360345c-0d3f-481b-955f-b2174d1e52c9",
   "metadata": {},
   "outputs": [],
   "source": [
    "from pathlib import Path\n",
    "import pandas as pd\n",
    "import psutil"
   ]
  },
  {
   "cell_type": "code",
   "execution_count": null,
   "id": "dfe20096-ebf8-4c31-8275-d7238ff106ae",
   "metadata": {},
   "outputs": [],
   "source": [
    "import plotly.express as px\n",
    "import plotly.io as pio\n",
    "pio.renderers.default = 'iframe'"
   ]
  },
  {
   "cell_type": "code",
   "execution_count": null,
   "id": "d447e9aa-6bd1-41b4-843b-3e8a361ba116",
   "metadata": {},
   "outputs": [],
   "source": [
    "from IPython.display import display"
   ]
  },
  {
   "cell_type": "code",
   "execution_count": null,
   "id": "d94e32eb-a9b0-4e15-b8bd-0b40dc77ad5b",
   "metadata": {},
   "outputs": [],
   "source": []
  },
  {
   "cell_type": "code",
   "execution_count": null,
   "id": "f012cf2f-5145-4a46-b745-3a9814d07a3b",
   "metadata": {},
   "outputs": [],
   "source": [
    "# 25.02.18-22.24.22.json\n",
    "patt = \"25.02.20-1*\"\n",
    "#patt = \"25.02.17-*\"\n",
    "\n",
    "paths = Path(\"benchmark\").glob(patt +\".json\")"
   ]
  },
  {
   "cell_type": "code",
   "execution_count": null,
   "id": "99236045-945e-4443-a935-4fb041e23661",
   "metadata": {},
   "outputs": [],
   "source": [
    "import json"
   ]
  },
  {
   "cell_type": "code",
   "execution_count": null,
   "id": "cb17a109-8dde-4004-80dd-4c573af5146e",
   "metadata": {},
   "outputs": [],
   "source": [
    "# check if some jsons in folder are corrupted and not readable \n",
    "print(\"corrupted jsons:\")\n",
    "for p in paths:\n",
    "    try:\n",
    "        with open(p,'r')as fp:\n",
    "            wat = json.load(fp)\n",
    "    except:\n",
    "        print(p)\n",
    "    \n"
   ]
  },
  {
   "cell_type": "code",
   "execution_count": null,
   "id": "b8bb5aec-18e7-4d80-84a5-a08cbabcaf13",
   "metadata": {},
   "outputs": [],
   "source": [
    "paths = Path(\"benchmark\").glob(patt +\".json\")\n",
    "experiments = [pd.read_json(p, orient=\"records\") for p in paths]\n"
   ]
  },
  {
   "cell_type": "code",
   "execution_count": null,
   "id": "385b8f4a-4e9a-4f8c-91da-e028bfd467ef",
   "metadata": {},
   "outputs": [],
   "source": [
    "bnch_data = pd.concat(experiments)"
   ]
  },
  {
   "cell_type": "code",
   "execution_count": null,
   "id": "9db78309-4565-4547-b1a9-1cb65b728942",
   "metadata": {},
   "outputs": [],
   "source": [
    "bnch_data.sort_values(\"time\")"
   ]
  },
  {
   "cell_type": "code",
   "execution_count": null,
   "id": "e8b4612c-e338-4b3e-8141-5909cdc09b73",
   "metadata": {},
   "outputs": [],
   "source": [
    "Gib = 2**(3*10)\n",
    "Gib"
   ]
  },
  {
   "cell_type": "code",
   "execution_count": null,
   "id": "aaeace30-7a4d-40c0-a0e4-37cf4a8288b0",
   "metadata": {
    "scrolled": true
   },
   "outputs": [],
   "source": [
    "metrics = ['RSS', 'VMS', 'free_memory', 'per_process_limit']\n",
    "df = bnch_data[['stage',  'memory_log', 'experiment_id']]\n",
    "df1 = df.explode(\"memory_log\").reset_index()\n",
    "\n",
    "df2 = pd.json_normalize(df1[\"memory_log\"])\n",
    "df3 = df1.join(df2) #.dropna()\n",
    "\n",
    "df3['time'] = pd.to_datetime(df3['time'], unit='s')\n",
    "\n",
    "for metric in metrics:\n",
    "    df3[metric + '_Gib'] = df3[metric] / Gib\n",
    "\n",
    "df3.sort_values('time',inplace=True)\n",
    "df3"
   ]
  },
  {
   "cell_type": "code",
   "execution_count": null,
   "id": "09da2263-ff3e-407d-87af-adc12b8c5514",
   "metadata": {},
   "outputs": [],
   "source": [
    "sc = px.line(df3, x = 'time', y = 'VMS' + '_Gib',color = 'stage', hover_name= \"experiment_id\") #facet_row='stage', experiment_id\n",
    "display(sc)"
   ]
  },
  {
   "cell_type": "code",
   "execution_count": null,
   "id": "beeebf75-f1b9-4b3c-ace1-39aee3ecf757",
   "metadata": {},
   "outputs": [],
   "source": [
    "sc = px.line(df3, x = 'time', y = 'RSS' + '_Gib',color = 'stage', hover_name= \"experiment_id\") #facet_row='stage', experiment_id\n",
    "display(sc)"
   ]
  },
  {
   "cell_type": "code",
   "execution_count": null,
   "id": "4c72c9bf-3b4b-4bf3-931a-fc2338e487d0",
   "metadata": {},
   "outputs": [],
   "source": [
    "sc = px.line(df3, x = 'time', y = 'per_process_limit' + '_Gib', color = 'experiment_id', \n",
    "             hover_name= \"experiment_id\", hover_data= ['stage']) #facet_row='stage', experiment_id\n",
    "display(sc)"
   ]
  },
  {
   "cell_type": "code",
   "execution_count": null,
   "id": "7249ba2a-f53f-46a1-9f03-40c12bf173fe",
   "metadata": {},
   "outputs": [],
   "source": [
    "sc = px.line(df3, x = 'time', y = 'free_memory' + '_Gib' ,  color = 'experiment_id', \n",
    "             hover_name= \"experiment_id\", hover_data= ['stage']) #processes facet_row='stage',\n",
    "display(sc)"
   ]
  },
  {
   "cell_type": "code",
   "execution_count": null,
   "id": "d128680f-938a-463e-9283-a995f91168ff",
   "metadata": {},
   "outputs": [],
   "source": [
    "sc = px.scatter(df3, x = 'time', y = 'num_threads', color = 'experiment_id', hover_name= \"experiment_id\") #processes facet_row='stage'\n",
    "display(sc)"
   ]
  },
  {
   "cell_type": "code",
   "execution_count": null,
   "id": "1381ce76-194a-4265-9a36-502209838ba4",
   "metadata": {},
   "outputs": [],
   "source": []
  },
  {
   "cell_type": "code",
   "execution_count": null,
   "id": "927e970a-9563-4cff-ac0c-8f88b9f5759e",
   "metadata": {},
   "outputs": [],
   "source": [
    "def get_free_memory_bytes():\n",
    "    with open('/proc/meminfo', 'r') as mem:\n",
    "        free_memory = 0\n",
    "        for i in mem:\n",
    "            sline = i.split()\n",
    "            if str(sline[0]) in ('MemFree:', 'Buffers:', 'Cached:'):\n",
    "                free_memory += int(sline[1])\n",
    "    return free_memory * 1000"
   ]
  },
  {
   "cell_type": "code",
   "execution_count": null,
   "id": "5a4ffe64-5c9a-4147-b077-ae1e736d9da8",
   "metadata": {},
   "outputs": [],
   "source": [
    "wat = psutil.virtual_memory()._asdict()\n",
    "for k in wat.keys():\n",
    "    wat[k] = wat[k]/Gib\n",
    "wat"
   ]
  },
  {
   "cell_type": "code",
   "execution_count": null,
   "id": "1e3d3e50-0504-41f7-9aac-bc66665c0a35",
   "metadata": {},
   "outputs": [],
   "source": [
    "psutil_free_mem = psutil.virtual_memory().available\n",
    "\n",
    "\n",
    "proc_free_mem = get_free_memory_bytes() #/ 1024**3\n",
    "proc_free_mem /Gib "
   ]
  },
  {
   "cell_type": "code",
   "execution_count": null,
   "id": "b500617f-9137-4c79-b692-79ebd4eef2c7",
   "metadata": {},
   "outputs": [],
   "source": [
    "psutil_free_mem /Gib"
   ]
  },
  {
   "cell_type": "code",
   "execution_count": null,
   "id": "a4f56b80-7ede-4f2f-9276-e693407c546a",
   "metadata": {},
   "outputs": [],
   "source": [
    "diff = psutil_free_mem - proc_free_mem\n",
    "diff / Gib"
   ]
  },
  {
   "cell_type": "code",
   "execution_count": null,
   "id": "a29b1ab9-0426-470b-accd-7aa1391ad108",
   "metadata": {},
   "outputs": [],
   "source": [
    "83886080000 /   1.074e+9"
   ]
  },
  {
   "cell_type": "code",
   "execution_count": null,
   "id": "11f05468-3347-43dc-ac53-e97454aa5cc5",
   "metadata": {},
   "outputs": [],
   "source": [
    "0.8 * 0.8 * 40000 *1024*1024 /1.074e+9"
   ]
  },
  {
   "cell_type": "code",
   "execution_count": null,
   "id": "dd785822-edde-4f48-98f9-5cbb9fb6cd3f",
   "metadata": {},
   "outputs": [],
   "source": [
    "df3[\"experiment_id\"].nunique()"
   ]
  },
  {
   "cell_type": "code",
   "execution_count": null,
   "id": "84854c43-dccb-48ec-97e8-8a904c78269a",
   "metadata": {},
   "outputs": [],
   "source": [
    "nonnas = bnch_data['exceptions'].notna()\n",
    "exc = bnch_data.loc[nonnas] #,'exceptions']\n",
    "exc"
   ]
  },
  {
   "cell_type": "code",
   "execution_count": null,
   "id": "455c9cc1-abb4-414f-b743-29335c18b3eb",
   "metadata": {},
   "outputs": [],
   "source": []
  },
  {
   "cell_type": "code",
   "execution_count": null,
   "id": "a97435f0-af92-4930-b4c3-031fe588b15a",
   "metadata": {},
   "outputs": [],
   "source": [
    "\n",
    "df4 = df3.explode(\"siblings\").reset_index()\n",
    "df4"
   ]
  },
  {
   "cell_type": "code",
   "execution_count": null,
   "id": "a81ae1e7-f470-4835-bf8f-ff1c6945be0c",
   "metadata": {},
   "outputs": [],
   "source": [
    "df5 = pd.json_normalize(df4[\"siblings\"])\n",
    "df5"
   ]
  },
  {
   "cell_type": "code",
   "execution_count": null,
   "id": "3593c93b-7d2a-4b5b-a0bf-4b69e3f712f2",
   "metadata": {},
   "outputs": [],
   "source": [
    "df6 = df4.join(df5)\n",
    "erm = df6[\"siblings\"].notna()\n",
    "df7 = df6.loc[erm]\n",
    "df7"
   ]
  },
  {
   "cell_type": "code",
   "execution_count": null,
   "id": "51a5f2aa-6c6e-4f5e-ad68-b748eb364119",
   "metadata": {},
   "outputs": [],
   "source": [
    "metric = 'vms' #'rss' #'data' #'text' #'shared' # \n",
    "df7[metric + '_Gib'] = df7[metric] / 1024**3\n",
    "df7['_pid'] = df7['_pid'].astype(int).astype(str)\n",
    "df7['time'] = pd.to_datetime(df7['time'], unit='s')\n",
    "df7"
   ]
  },
  {
   "cell_type": "code",
   "execution_count": null,
   "id": "431f28f6-2fd8-47f3-bcd2-e631fa776161",
   "metadata": {},
   "outputs": [],
   "source": [
    "\n",
    "symbols = ['circle', 'circle-open']\n",
    "sc = px.scatter(df7, x = 'time', y = metric + '_Gib' ,color = '_pid', \n",
    "                hover_name= \"experiment_id\", symbol= \"stage\", symbol_sequence=symbols ) #facet_row='stage', experiment_id\n",
    "display(sc)"
   ]
  },
  {
   "cell_type": "code",
   "execution_count": null,
   "id": "b9dc5c13-a58e-40f9-b7a5-1655f534518f",
   "metadata": {},
   "outputs": [],
   "source": []
  }
 ],
 "metadata": {
  "kernelspec": {
   "display_name": "Python [conda env:base]",
   "language": "python",
   "name": "conda-base-py"
  },
  "language_info": {
   "codemirror_mode": {
    "name": "ipython",
    "version": 3
   },
   "file_extension": ".py",
   "mimetype": "text/x-python",
   "name": "python",
   "nbconvert_exporter": "python",
   "pygments_lexer": "ipython3",
   "version": "3.12.2"
  }
 },
 "nbformat": 4,
 "nbformat_minor": 5
}
