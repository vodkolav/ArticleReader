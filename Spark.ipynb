{
 "cells": [
  {
   "attachments": {},
   "cell_type": "markdown",
   "id": "3817f393-5aa0-4395-b4d7-32aebfce613f",
   "metadata": {},
   "source": [
    "# Big Data Project: Transforming Scientific Articles into Videos with Speech using Apache Spark and Kafka\n"
   ]
  },
  {
   "cell_type": "code",
   "execution_count": null,
   "id": "62c3735a-37f8-4aa4-8853-5fe628b0bb2f",
   "metadata": {
    "vscode": {
     "languageId": "python"
    }
   },
   "outputs": [],
   "source": [
    "# make modules from py files auto-reload when changed\n",
    "%load_ext autoreload\n",
    "%autoreload 2"
   ]
  },
  {
   "attachments": {},
   "cell_type": "markdown",
   "id": "59da1763-4cc7-4175-afe8-2f648f90670b",
   "metadata": {},
   "source": [
    "# Spark "
   ]
  },
  {
   "cell_type": "code",
   "execution_count": null,
   "id": "2ba683fd-1c4f-46a7-86fe-29748363ed8b",
   "metadata": {
    "vscode": {
     "languageId": "python"
    }
   },
   "outputs": [],
   "source": [
    "#import findspark\n",
    "import os\n",
    "import sys\n",
    "#from pyspark.sql import SparkSession"
   ]
  },
  {
   "cell_type": "code",
   "execution_count": null,
   "id": "1841c6ee-363b-4c69-bdc9-19e47bab5ff0",
   "metadata": {
    "vscode": {
     "languageId": "python"
    }
   },
   "outputs": [],
   "source": [
    "sys.executable"
   ]
  },
  {
   "cell_type": "code",
   "execution_count": null,
   "id": "f84f01cc-1026-446a-b40a-24900216b129",
   "metadata": {
    "vscode": {
     "languageId": "python"
    }
   },
   "outputs": [],
   "source": [
    "os.getcwd()"
   ]
  },
  {
   "cell_type": "code",
   "execution_count": null,
   "id": "86f67ac3-b27b-4e13-af53-a3970a2bfd57",
   "metadata": {
    "vscode": {
     "languageId": "python"
    }
   },
   "outputs": [],
   "source": [
    "# Set Spark environment variables\n",
    "# os.environ['SPARK_HOME'] = '/path/to/spark'\n",
    "# os.environ['PYSPARK_PYTHON'] = 'python'\n",
    "# os.environ['PYSPARK_DRIVER_PYTHON'] = 'python'\n",
    "# os.environ['JAVA_HOME'] = '/path/to/java'\n",
    "\n",
    "# Initialize findspark\n",
    "#findspark.init()\n",
    "\n",
    "# Create SparkSession and print version\n",
    "# spark = SparkSession.builder.appName(\"PySpark Test\").getOrCreate()\n",
    "# print(f\"Spark version: {spark.version}\")\n",
    "# spark.stop()"
   ]
  },
  {
   "attachments": {},
   "cell_type": "markdown",
   "id": "78f997a8-4980-480a-892f-d0078db1a876",
   "metadata": {},
   "source": [
    "#TODO:   \n",
    "create folders for data, checkpoints, output, dbg\n"
   ]
  },
  {
   "attachments": {},
   "cell_type": "markdown",
   "id": "13692290-f4df-474f-b861-095623f1f808",
   "metadata": {},
   "source": [
    "# TTS \n"
   ]
  },
  {
   "attachments": {},
   "cell_type": "markdown",
   "id": "598aff3b",
   "metadata": {},
   "source": [
    "## Basic run just for test "
   ]
  },
  {
   "cell_type": "code",
   "execution_count": null,
   "id": "3012adb6-6d2c-49a4-8e04-eda485d271dd",
   "metadata": {
    "vscode": {
     "languageId": "python"
    }
   },
   "outputs": [],
   "source": [
    "import torch\n",
    "from datetime import datetime\n",
    "from ArticleReader.Chunker import Chunker\n",
    "from ArticleReader.LatexToSpeech import LatexParser\n",
    "from ArticleReader.Narrator import Narrator\n",
    "from Benchmarking import Bench\n",
    "import pandas as pd \n",
    "import json"
   ]
  },
  {
   "cell_type": "code",
   "execution_count": null,
   "id": "3f2b1a90-97c5-42c5-be11-08cc4fdb709f",
   "metadata": {
    "vscode": {
     "languageId": "python"
    }
   },
   "outputs": [],
   "source": [
    "input_file = \"data/arXiv-2106.04624v1/main.tex\"\n",
    "output_file = \"output/\" + datetime.now().strftime(r\"%y.%m.%d-%H\")\n",
    "\n",
    "parser = LatexParser()\n",
    "content = parser.read_latex(input_file)\n",
    "processed = parser.custom_latex_to_text(content)\n",
    "parser.save_text(processed, \"dbg/spec_my.txt\")\n",
    "\n",
    "tables = parser.get_tables()\n",
    "parser.save_text(tables, \"dbg/tables.tex\")"
   ]
  },
  {
   "cell_type": "code",
   "execution_count": null,
   "id": "a8688131-5656-4c4a-9525-75634809aaf5",
   "metadata": {
    "vscode": {
     "languageId": "python"
    }
   },
   "outputs": [],
   "source": [
    "chunker = Chunker(max_len=200)\n",
    "chunker.split_text_into_chunks(processed)\n",
    "chunks = chunker.get_test_batch(10, 0)\n",
    "# chunks = chunker.chunks\n",
    "chunker.save_chunks_as_text(output_file + \".md\", chunks)\n",
    "print(\"text chunks:\", [len(ch) for ch in chunks])"
   ]
  },
  {
   "cell_type": "code",
   "execution_count": null,
   "id": "0c389ecf-b341-411b-8536-4fb88408cad4",
   "metadata": {
    "vscode": {
     "languageId": "python"
    }
   },
   "outputs": [],
   "source": [
    "\n",
    "narrator = Narrator()"
   ]
  },
  {
   "attachments": {},
   "cell_type": "markdown",
   "id": "44d9e29d-342a-416e-963b-d20ef8983cfc",
   "metadata": {},
   "source": [
    "# End"
   ]
  }
 ],
 "metadata": {
  "kernelspec": {
   "display_name": "Python [conda env:pyspark_TTS]",
   "language": "python",
   "name": "conda-env-pyspark_TTS-py"
  }
 },
 "nbformat": 4,
 "nbformat_minor": 5
}
