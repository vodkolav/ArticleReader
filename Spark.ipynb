{
 "cells": [
  {
   "cell_type": "code",
   "execution_count": null,
   "id": "2ba683fd-1c4f-46a7-86fe-29748363ed8b",
   "metadata": {},
   "outputs": [],
   "source": [
    "#import findspark\n",
    "import os\n",
    "from pyspark.sql import SparkSession"
   ]
  },
  {
   "cell_type": "code",
   "execution_count": null,
   "id": "983b6a28-8510-4261-980a-64bd0c0a2f03",
   "metadata": {},
   "outputs": [],
   "source": [
    "import sys\n",
    "sys.executable"
   ]
  },
  {
   "cell_type": "code",
   "execution_count": null,
   "id": "d6fb0aa0-9d00-4ea9-b01e-07bcefc8fd61",
   "metadata": {},
   "outputs": [],
   "source": [
    "os.environ"
   ]
  },
  {
   "cell_type": "code",
   "execution_count": null,
   "id": "86f67ac3-b27b-4e13-af53-a3970a2bfd57",
   "metadata": {},
   "outputs": [],
   "source": [
    "# Set Spark environment variables\n",
    "# os.environ['SPARK_HOME'] = '/path/to/spark'\n",
    "# os.environ['PYSPARK_PYTHON'] = 'python'\n",
    "# os.environ['PYSPARK_DRIVER_PYTHON'] = 'python'\n",
    "# os.environ['JAVA_HOME'] = '/path/to/java'\n",
    "\n",
    "# Initialize findspark\n",
    "#findspark.init()\n",
    "\n",
    "# Create SparkSession and print version\n",
    "spark = SparkSession.builder.appName(\"PySpark Test\").getOrCreate()\n",
    "print(f\"Spark version: {spark.version}\")\n",
    "spark.stop()"
   ]
  },
  {
   "cell_type": "markdown",
   "id": "78f997a8-4980-480a-892f-d0078db1a876",
   "metadata": {},
   "source": [
    "#TODO:   \n",
    "create folders for data, checkpoints, output, dbg\n"
   ]
  },
  {
   "cell_type": "code",
   "execution_count": null,
   "id": "33be8ff2-9d70-4b65-9052-83f96724f321",
   "metadata": {},
   "outputs": [],
   "source": [
    "import pylatexenc"
   ]
  },
  {
   "cell_type": "code",
   "execution_count": null,
   "id": "c7b60c2a-8c99-418f-b8e2-4969640da1bd",
   "metadata": {},
   "outputs": [],
   "source": [
    "os.getcwd()"
   ]
  },
  {
   "cell_type": "code",
   "execution_count": null,
   "id": "3012adb6-6d2c-49a4-8e04-eda485d271dd",
   "metadata": {},
   "outputs": [],
   "source": [
    "import torch\n",
    "from datetime import datetime\n",
    "from ArticleReader.LatexToSpeech import LatexParser, Chunker, Narrator\n"
   ]
  },
  {
   "cell_type": "code",
   "execution_count": null,
   "id": "3f2b1a90-97c5-42c5-be11-08cc4fdb709f",
   "metadata": {},
   "outputs": [],
   "source": [
    "input_file = \"data/arXiv-2106.04624v1/main.tex\"\n",
    "output_file = \"output/\" + datetime.now().strftime(r\"%y.%m.%d-%H\")\n",
    "\n",
    "parser = LatexParser()\n",
    "content = parser.read_latex(input_file)\n",
    "processed = parser.custom_latex_to_text(content)\n",
    "parser.save_text(processed, \"dbg/spec_my.txt\")\n",
    "\n",
    "tables = parser.get_tables()\n",
    "parser.save_text(tables, \"dbg/tables.tex\")"
   ]
  },
  {
   "cell_type": "code",
   "execution_count": null,
   "id": "a8688131-5656-4c4a-9525-75634809aaf5",
   "metadata": {},
   "outputs": [],
   "source": [
    "chunker = Chunker(max_len=200)\n",
    "chunker.split_text_into_chunks(processed)\n",
    "chunks = chunker.get_test_batch(10, 0)\n",
    "# chunks = chunker.chunks\n",
    "chunker.save_chunks_as_text(output_file + \".md\", chunks)\n",
    "print(\"text chunks:\", [len(ch) for ch in chunks])"
   ]
  },
  {
   "cell_type": "code",
   "execution_count": null,
   "id": "c9f64f72-9b1e-4e5f-ac92-3339185a470c",
   "metadata": {},
   "outputs": [],
   "source": [
    "narrator = Narrator()\n",
    "waveforms, durations = narrator.text_to_speech_batched(chunks)\n",
    "durations_sec = durations / 22050.0\n",
    "\n",
    "print(\"durations: \", durations_sec)\n",
    "\n",
    "waveform = torch.cat(waveforms, dim=1)\n",
    "\n",
    "print(\"saving audio\")\n",
    "narrator.save_audio(output_file + \".wav\", waveform)"
   ]
  },
  {
   "cell_type": "code",
   "execution_count": null,
   "id": "823cbe02-4045-4032-8afe-c49bd342f06f",
   "metadata": {},
   "outputs": [],
   "source": []
  }
 ],
 "metadata": {
  "kernelspec": {
   "display_name": "Python [conda env:pyspark_TTS]",
   "language": "python",
   "name": "conda-env-pyspark_TTS-py"
  },
  "language_info": {
   "codemirror_mode": {
    "name": "ipython",
    "version": 3
   },
   "file_extension": ".py",
   "mimetype": "text/x-python",
   "name": "python",
   "nbconvert_exporter": "python",
   "pygments_lexer": "ipython3",
   "version": "3.9.21"
  }
 },
 "nbformat": 4,
 "nbformat_minor": 5
}
